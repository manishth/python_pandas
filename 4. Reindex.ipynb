{
 "cells": [
  {
   "cell_type": "code",
   "execution_count": 1,
   "metadata": {
    "collapsed": true
   },
   "outputs": [],
   "source": [
    "import numpy as np\n",
    "import pandas as pd"
   ]
  },
  {
   "cell_type": "code",
   "execution_count": 2,
   "metadata": {
    "collapsed": false
   },
   "outputs": [
    {
     "data": {
      "text/plain": [
       "A    1\n",
       "B    2\n",
       "C    3\n",
       "D    4\n",
       "dtype: int64"
      ]
     },
     "execution_count": 2,
     "metadata": {},
     "output_type": "execute_result"
    }
   ],
   "source": [
    "ser1 = pd.Series([1,2,3,4], index=['A','B','C','D'])\n",
    "\n",
    "ser1"
   ]
  },
  {
   "cell_type": "code",
   "execution_count": 3,
   "metadata": {
    "collapsed": false
   },
   "outputs": [
    {
     "data": {
      "text/plain": [
       "A    1.0\n",
       "B    2.0\n",
       "C    3.0\n",
       "D    4.0\n",
       "E    NaN\n",
       "F    NaN\n",
       "dtype: float64"
      ]
     },
     "execution_count": 3,
     "metadata": {},
     "output_type": "execute_result"
    }
   ],
   "source": [
    "# Lets reindex our ser1 series and create a new series\n",
    "ser2 = ser1.reindex(['A','B','C','D','E','F'])\n",
    "ser2\n",
    "# Notice how pandas added NaN for indices that had no values"
   ]
  },
  {
   "cell_type": "code",
   "execution_count": 6,
   "metadata": {
    "collapsed": false
   },
   "outputs": [
    {
     "data": {
      "text/plain": [
       "A    1.0\n",
       "B    2.0\n",
       "C    3.0\n",
       "D    4.0\n",
       "E    NaN\n",
       "F    NaN\n",
       "G    0.0\n",
       "dtype: float64"
      ]
     },
     "execution_count": 6,
     "metadata": {},
     "output_type": "execute_result"
    }
   ],
   "source": [
    "# We can set a default value for NaN valued indices\n",
    "ser2.reindex(['A','B','C','D','E','F','G'], fill_value = 0) # This will add a default 0 to indices without any value or NaN"
   ]
  },
  {
   "cell_type": "code",
   "execution_count": 16,
   "metadata": {
    "collapsed": false
   },
   "outputs": [
    {
     "data": {
      "text/plain": [
       "0        USA\n",
       "5     Canada\n",
       "10    Mexico\n",
       "dtype: object"
      ]
     },
     "execution_count": 16,
     "metadata": {},
     "output_type": "execute_result"
    }
   ],
   "source": [
    "ser3 = pd.Series([\"USA\", \"Canada\", \"Mexico\"], index=[0,5,10])\n",
    "\n",
    "ser3"
   ]
  },
  {
   "cell_type": "code",
   "execution_count": 17,
   "metadata": {
    "collapsed": false
   },
   "outputs": [
    {
     "data": {
      "text/plain": [
       "0        USA\n",
       "1        USA\n",
       "2        USA\n",
       "3        USA\n",
       "4        USA\n",
       "5     Canada\n",
       "6     Canada\n",
       "7     Canada\n",
       "8     Canada\n",
       "9     Canada\n",
       "10    Mexico\n",
       "11    Mexico\n",
       "12    Mexico\n",
       "13    Mexico\n",
       "14    Mexico\n",
       "dtype: object"
      ]
     },
     "execution_count": 17,
     "metadata": {},
     "output_type": "execute_result"
    }
   ],
   "source": [
    "# The forwardfill (ffill) method\n",
    "# Documentation: http://pandas.pydata.org/pandas-docs/stable/generated/pandas.Series.reindex.html\n",
    "ser3.reindex(range(15), method='ffill')"
   ]
  },
  {
   "cell_type": "code",
   "execution_count": 18,
   "metadata": {
    "collapsed": false
   },
   "outputs": [
    {
     "data": {
      "text/html": [
       "<div>\n",
       "<table border=\"1\" class=\"dataframe\">\n",
       "  <thead>\n",
       "    <tr style=\"text-align: right;\">\n",
       "      <th></th>\n",
       "      <th>col1</th>\n",
       "      <th>col2</th>\n",
       "      <th>col3</th>\n",
       "      <th>col4</th>\n",
       "      <th>col5</th>\n",
       "    </tr>\n",
       "  </thead>\n",
       "  <tbody>\n",
       "    <tr>\n",
       "      <th>A</th>\n",
       "      <td>-0.790325</td>\n",
       "      <td>2.674577</td>\n",
       "      <td>-0.345614</td>\n",
       "      <td>-1.416629</td>\n",
       "      <td>0.205986</td>\n",
       "    </tr>\n",
       "    <tr>\n",
       "      <th>B</th>\n",
       "      <td>-2.733508</td>\n",
       "      <td>-1.130804</td>\n",
       "      <td>-1.387698</td>\n",
       "      <td>0.169110</td>\n",
       "      <td>-0.945155</td>\n",
       "    </tr>\n",
       "    <tr>\n",
       "      <th>D</th>\n",
       "      <td>0.521535</td>\n",
       "      <td>-0.254823</td>\n",
       "      <td>-0.882542</td>\n",
       "      <td>0.193668</td>\n",
       "      <td>-0.971872</td>\n",
       "    </tr>\n",
       "    <tr>\n",
       "      <th>E</th>\n",
       "      <td>-0.821606</td>\n",
       "      <td>1.259314</td>\n",
       "      <td>0.332079</td>\n",
       "      <td>0.591791</td>\n",
       "      <td>-1.563275</td>\n",
       "    </tr>\n",
       "    <tr>\n",
       "      <th>F</th>\n",
       "      <td>-1.091782</td>\n",
       "      <td>0.648895</td>\n",
       "      <td>0.118872</td>\n",
       "      <td>0.252615</td>\n",
       "      <td>-1.756999</td>\n",
       "    </tr>\n",
       "  </tbody>\n",
       "</table>\n",
       "</div>"
      ],
      "text/plain": [
       "       col1      col2      col3      col4      col5\n",
       "A -0.790325  2.674577 -0.345614 -1.416629  0.205986\n",
       "B -2.733508 -1.130804 -1.387698  0.169110 -0.945155\n",
       "D  0.521535 -0.254823 -0.882542  0.193668 -0.971872\n",
       "E -0.821606  1.259314  0.332079  0.591791 -1.563275\n",
       "F -1.091782  0.648895  0.118872  0.252615 -1.756999"
      ]
     },
     "execution_count": 18,
     "metadata": {},
     "output_type": "execute_result"
    }
   ],
   "source": [
    "dframe = pd.DataFrame(np.random.randn(25).reshape((5,5)), index=['A','B','D','E','F'], \n",
    "                      columns=['col1','col2','col3','col4','col5'])\n",
    "\n",
    "dframe"
   ]
  },
  {
   "cell_type": "code",
   "execution_count": 19,
   "metadata": {
    "collapsed": false
   },
   "outputs": [
    {
     "data": {
      "text/html": [
       "<div>\n",
       "<table border=\"1\" class=\"dataframe\">\n",
       "  <thead>\n",
       "    <tr style=\"text-align: right;\">\n",
       "      <th></th>\n",
       "      <th>col1</th>\n",
       "      <th>col2</th>\n",
       "      <th>col3</th>\n",
       "      <th>col4</th>\n",
       "      <th>col5</th>\n",
       "    </tr>\n",
       "  </thead>\n",
       "  <tbody>\n",
       "    <tr>\n",
       "      <th>A</th>\n",
       "      <td>-0.790325</td>\n",
       "      <td>2.674577</td>\n",
       "      <td>-0.345614</td>\n",
       "      <td>-1.416629</td>\n",
       "      <td>0.205986</td>\n",
       "    </tr>\n",
       "    <tr>\n",
       "      <th>B</th>\n",
       "      <td>-2.733508</td>\n",
       "      <td>-1.130804</td>\n",
       "      <td>-1.387698</td>\n",
       "      <td>0.169110</td>\n",
       "      <td>-0.945155</td>\n",
       "    </tr>\n",
       "    <tr>\n",
       "      <th>C</th>\n",
       "      <td>NaN</td>\n",
       "      <td>NaN</td>\n",
       "      <td>NaN</td>\n",
       "      <td>NaN</td>\n",
       "      <td>NaN</td>\n",
       "    </tr>\n",
       "    <tr>\n",
       "      <th>D</th>\n",
       "      <td>0.521535</td>\n",
       "      <td>-0.254823</td>\n",
       "      <td>-0.882542</td>\n",
       "      <td>0.193668</td>\n",
       "      <td>-0.971872</td>\n",
       "    </tr>\n",
       "    <tr>\n",
       "      <th>E</th>\n",
       "      <td>-0.821606</td>\n",
       "      <td>1.259314</td>\n",
       "      <td>0.332079</td>\n",
       "      <td>0.591791</td>\n",
       "      <td>-1.563275</td>\n",
       "    </tr>\n",
       "    <tr>\n",
       "      <th>F</th>\n",
       "      <td>-1.091782</td>\n",
       "      <td>0.648895</td>\n",
       "      <td>0.118872</td>\n",
       "      <td>0.252615</td>\n",
       "      <td>-1.756999</td>\n",
       "    </tr>\n",
       "  </tbody>\n",
       "</table>\n",
       "</div>"
      ],
      "text/plain": [
       "       col1      col2      col3      col4      col5\n",
       "A -0.790325  2.674577 -0.345614 -1.416629  0.205986\n",
       "B -2.733508 -1.130804 -1.387698  0.169110 -0.945155\n",
       "C       NaN       NaN       NaN       NaN       NaN\n",
       "D  0.521535 -0.254823 -0.882542  0.193668 -0.971872\n",
       "E -0.821606  1.259314  0.332079  0.591791 -1.563275\n",
       "F -1.091782  0.648895  0.118872  0.252615 -1.756999"
      ]
     },
     "execution_count": 19,
     "metadata": {},
     "output_type": "execute_result"
    }
   ],
   "source": [
    "dframe2 = dframe.reindex(['A','B','C','D','E','F'])\n",
    "\n",
    "dframe2"
   ]
  },
  {
   "cell_type": "code",
   "execution_count": 20,
   "metadata": {
    "collapsed": false,
    "scrolled": true
   },
   "outputs": [
    {
     "data": {
      "text/html": [
       "<div>\n",
       "<table border=\"1\" class=\"dataframe\">\n",
       "  <thead>\n",
       "    <tr style=\"text-align: right;\">\n",
       "      <th></th>\n",
       "      <th>col1</th>\n",
       "      <th>col2</th>\n",
       "      <th>col3</th>\n",
       "      <th>col4</th>\n",
       "      <th>col5</th>\n",
       "      <th>col6</th>\n",
       "    </tr>\n",
       "  </thead>\n",
       "  <tbody>\n",
       "    <tr>\n",
       "      <th>A</th>\n",
       "      <td>-0.790325</td>\n",
       "      <td>2.674577</td>\n",
       "      <td>-0.345614</td>\n",
       "      <td>-1.416629</td>\n",
       "      <td>0.205986</td>\n",
       "      <td>NaN</td>\n",
       "    </tr>\n",
       "    <tr>\n",
       "      <th>B</th>\n",
       "      <td>-2.733508</td>\n",
       "      <td>-1.130804</td>\n",
       "      <td>-1.387698</td>\n",
       "      <td>0.169110</td>\n",
       "      <td>-0.945155</td>\n",
       "      <td>NaN</td>\n",
       "    </tr>\n",
       "    <tr>\n",
       "      <th>C</th>\n",
       "      <td>NaN</td>\n",
       "      <td>NaN</td>\n",
       "      <td>NaN</td>\n",
       "      <td>NaN</td>\n",
       "      <td>NaN</td>\n",
       "      <td>NaN</td>\n",
       "    </tr>\n",
       "    <tr>\n",
       "      <th>D</th>\n",
       "      <td>0.521535</td>\n",
       "      <td>-0.254823</td>\n",
       "      <td>-0.882542</td>\n",
       "      <td>0.193668</td>\n",
       "      <td>-0.971872</td>\n",
       "      <td>NaN</td>\n",
       "    </tr>\n",
       "    <tr>\n",
       "      <th>E</th>\n",
       "      <td>-0.821606</td>\n",
       "      <td>1.259314</td>\n",
       "      <td>0.332079</td>\n",
       "      <td>0.591791</td>\n",
       "      <td>-1.563275</td>\n",
       "      <td>NaN</td>\n",
       "    </tr>\n",
       "    <tr>\n",
       "      <th>F</th>\n",
       "      <td>-1.091782</td>\n",
       "      <td>0.648895</td>\n",
       "      <td>0.118872</td>\n",
       "      <td>0.252615</td>\n",
       "      <td>-1.756999</td>\n",
       "      <td>NaN</td>\n",
       "    </tr>\n",
       "  </tbody>\n",
       "</table>\n",
       "</div>"
      ],
      "text/plain": [
       "       col1      col2      col3      col4      col5  col6\n",
       "A -0.790325  2.674577 -0.345614 -1.416629  0.205986   NaN\n",
       "B -2.733508 -1.130804 -1.387698  0.169110 -0.945155   NaN\n",
       "C       NaN       NaN       NaN       NaN       NaN   NaN\n",
       "D  0.521535 -0.254823 -0.882542  0.193668 -0.971872   NaN\n",
       "E -0.821606  1.259314  0.332079  0.591791 -1.563275   NaN\n",
       "F -1.091782  0.648895  0.118872  0.252615 -1.756999   NaN"
      ]
     },
     "execution_count": 20,
     "metadata": {},
     "output_type": "execute_result"
    }
   ],
   "source": [
    "new_columns = ['col1','col2','col3','col4','col5','col6']\n",
    "\n",
    "dframe2.reindex(columns=new_columns) # Reindexing columns"
   ]
  },
  {
   "cell_type": "code",
   "execution_count": 23,
   "metadata": {
    "collapsed": false
   },
   "outputs": [
    {
     "data": {
      "text/html": [
       "<div>\n",
       "<table border=\"1\" class=\"dataframe\">\n",
       "  <thead>\n",
       "    <tr style=\"text-align: right;\">\n",
       "      <th></th>\n",
       "      <th>col1</th>\n",
       "      <th>col2</th>\n",
       "      <th>col3</th>\n",
       "      <th>col4</th>\n",
       "      <th>col5</th>\n",
       "      <th>col6</th>\n",
       "    </tr>\n",
       "  </thead>\n",
       "  <tbody>\n",
       "    <tr>\n",
       "      <th>A</th>\n",
       "      <td>-0.790325</td>\n",
       "      <td>2.674577</td>\n",
       "      <td>-0.345614</td>\n",
       "      <td>-1.416629</td>\n",
       "      <td>0.205986</td>\n",
       "      <td>NaN</td>\n",
       "    </tr>\n",
       "    <tr>\n",
       "      <th>B</th>\n",
       "      <td>-2.733508</td>\n",
       "      <td>-1.130804</td>\n",
       "      <td>-1.387698</td>\n",
       "      <td>0.169110</td>\n",
       "      <td>-0.945155</td>\n",
       "      <td>NaN</td>\n",
       "    </tr>\n",
       "    <tr>\n",
       "      <th>C</th>\n",
       "      <td>NaN</td>\n",
       "      <td>NaN</td>\n",
       "      <td>NaN</td>\n",
       "      <td>NaN</td>\n",
       "      <td>NaN</td>\n",
       "      <td>NaN</td>\n",
       "    </tr>\n",
       "    <tr>\n",
       "      <th>D</th>\n",
       "      <td>0.521535</td>\n",
       "      <td>-0.254823</td>\n",
       "      <td>-0.882542</td>\n",
       "      <td>0.193668</td>\n",
       "      <td>-0.971872</td>\n",
       "      <td>NaN</td>\n",
       "    </tr>\n",
       "    <tr>\n",
       "      <th>E</th>\n",
       "      <td>-0.821606</td>\n",
       "      <td>1.259314</td>\n",
       "      <td>0.332079</td>\n",
       "      <td>0.591791</td>\n",
       "      <td>-1.563275</td>\n",
       "      <td>NaN</td>\n",
       "    </tr>\n",
       "    <tr>\n",
       "      <th>F</th>\n",
       "      <td>-1.091782</td>\n",
       "      <td>0.648895</td>\n",
       "      <td>0.118872</td>\n",
       "      <td>0.252615</td>\n",
       "      <td>-1.756999</td>\n",
       "      <td>NaN</td>\n",
       "    </tr>\n",
       "  </tbody>\n",
       "</table>\n",
       "</div>"
      ],
      "text/plain": [
       "       col1      col2      col3      col4      col5  col6\n",
       "A -0.790325  2.674577 -0.345614 -1.416629  0.205986   NaN\n",
       "B -2.733508 -1.130804 -1.387698  0.169110 -0.945155   NaN\n",
       "C       NaN       NaN       NaN       NaN       NaN   NaN\n",
       "D  0.521535 -0.254823 -0.882542  0.193668 -0.971872   NaN\n",
       "E -0.821606  1.259314  0.332079  0.591791 -1.563275   NaN\n",
       "F -1.091782  0.648895  0.118872  0.252615 -1.756999   NaN"
      ]
     },
     "execution_count": 23,
     "metadata": {},
     "output_type": "execute_result"
    }
   ],
   "source": [
    "# Reindexing usine ix\n",
    "dframe.ix[['A','B','C','D','E','F'], new_columns]"
   ]
  }
 ],
 "metadata": {
  "kernelspec": {
   "display_name": "Python 3",
   "language": "python",
   "name": "python3"
  },
  "language_info": {
   "codemirror_mode": {
    "name": "ipython",
    "version": 3
   },
   "file_extension": ".py",
   "mimetype": "text/x-python",
   "name": "python",
   "nbconvert_exporter": "python",
   "pygments_lexer": "ipython3",
   "version": "3.6.0"
  }
 },
 "nbformat": 4,
 "nbformat_minor": 2
}
